{
 "cells": [
  {
   "cell_type": "markdown",
   "metadata": {},
   "source": [
    "#### Daily Weather Data Analysis...\n",
    "* Using Decision Tree Classifier"
   ]
  },
  {
   "cell_type": "markdown",
   "metadata": {},
   "source": [
    "* Import Necessary and Unnecessary Modules.."
   ]
  },
  {
   "cell_type": "code",
   "execution_count": 1,
   "metadata": {},
   "outputs": [],
   "source": [
    "import warnings\n",
    "warnings.filterwarnings('ignore')"
   ]
  },
  {
   "cell_type": "code",
   "execution_count": 78,
   "metadata": {},
   "outputs": [],
   "source": [
    "import numpy as np\n",
    "import pandas as pd\n",
    "import matplotlib.pyplot as plt\n",
    "import seaborn as sns\n",
    "from sklearn.linear_model import LogisticRegression\n",
    "from sklearn.tree import DecisionTreeClassifier\n",
    "from sklearn.ensemble import RandomForestClassifier,AdaBoostClassifier,GradientBoostingClassifier\n",
    "from IPython.display import Image"
   ]
  },
  {
   "cell_type": "code",
   "execution_count": 3,
   "metadata": {},
   "outputs": [],
   "source": [
    "from sklearn.model_selection import train_test_split\n",
    "# from sklearn.preprocessing import \n",
    "from sklearn.metrics import accuracy_score,mean_absolute_error,mean_squared_error,confusion_matrix"
   ]
  },
  {
   "cell_type": "markdown",
   "metadata": {},
   "source": [
    "* Load the Dataset & let's start working on it "
   ]
  },
  {
   "cell_type": "code",
   "execution_count": 4,
   "metadata": {},
   "outputs": [],
   "source": [
    "Data = pd.read_csv('data_weather.csv')"
   ]
  },
  {
   "cell_type": "code",
   "execution_count": 5,
   "metadata": {},
   "outputs": [],
   "source": [
    "# Here the Data is like a spare dataset tocome back and understand the raw data\n",
    "df = Data.copy()"
   ]
  },
  {
   "cell_type": "code",
   "execution_count": 6,
   "metadata": {},
   "outputs": [
    {
     "data": {
      "text/html": [
       "<div>\n",
       "<style scoped>\n",
       "    .dataframe tbody tr th:only-of-type {\n",
       "        vertical-align: middle;\n",
       "    }\n",
       "\n",
       "    .dataframe tbody tr th {\n",
       "        vertical-align: top;\n",
       "    }\n",
       "\n",
       "    .dataframe thead th {\n",
       "        text-align: right;\n",
       "    }\n",
       "</style>\n",
       "<table border=\"1\" class=\"dataframe\">\n",
       "  <thead>\n",
       "    <tr style=\"text-align: right;\">\n",
       "      <th></th>\n",
       "      <th>number</th>\n",
       "      <th>air_pressure_9am</th>\n",
       "      <th>air_temp_9am</th>\n",
       "      <th>avg_wind_direction_9am</th>\n",
       "      <th>avg_wind_speed_9am</th>\n",
       "      <th>max_wind_direction_9am</th>\n",
       "      <th>max_wind_speed_9am</th>\n",
       "      <th>rain_accumulation_9am</th>\n",
       "      <th>rain_duration_9am</th>\n",
       "      <th>relative_humidity_9am</th>\n",
       "      <th>relative_humidity_3pm</th>\n",
       "    </tr>\n",
       "  </thead>\n",
       "  <tbody>\n",
       "    <tr>\n",
       "      <th>0</th>\n",
       "      <td>0</td>\n",
       "      <td>918.060000</td>\n",
       "      <td>74.822000</td>\n",
       "      <td>271.100000</td>\n",
       "      <td>2.080354</td>\n",
       "      <td>295.400000</td>\n",
       "      <td>2.863283</td>\n",
       "      <td>0.0</td>\n",
       "      <td>0.0</td>\n",
       "      <td>42.420000</td>\n",
       "      <td>36.160000</td>\n",
       "    </tr>\n",
       "    <tr>\n",
       "      <th>1</th>\n",
       "      <td>1</td>\n",
       "      <td>917.347688</td>\n",
       "      <td>71.403843</td>\n",
       "      <td>101.935179</td>\n",
       "      <td>2.443009</td>\n",
       "      <td>140.471548</td>\n",
       "      <td>3.533324</td>\n",
       "      <td>0.0</td>\n",
       "      <td>0.0</td>\n",
       "      <td>24.328697</td>\n",
       "      <td>19.426597</td>\n",
       "    </tr>\n",
       "    <tr>\n",
       "      <th>2</th>\n",
       "      <td>2</td>\n",
       "      <td>923.040000</td>\n",
       "      <td>60.638000</td>\n",
       "      <td>51.000000</td>\n",
       "      <td>17.067852</td>\n",
       "      <td>63.700000</td>\n",
       "      <td>22.100967</td>\n",
       "      <td>0.0</td>\n",
       "      <td>20.0</td>\n",
       "      <td>8.900000</td>\n",
       "      <td>14.460000</td>\n",
       "    </tr>\n",
       "    <tr>\n",
       "      <th>3</th>\n",
       "      <td>3</td>\n",
       "      <td>920.502751</td>\n",
       "      <td>70.138895</td>\n",
       "      <td>198.832133</td>\n",
       "      <td>4.337363</td>\n",
       "      <td>211.203341</td>\n",
       "      <td>5.190045</td>\n",
       "      <td>0.0</td>\n",
       "      <td>0.0</td>\n",
       "      <td>12.189102</td>\n",
       "      <td>12.742547</td>\n",
       "    </tr>\n",
       "    <tr>\n",
       "      <th>4</th>\n",
       "      <td>4</td>\n",
       "      <td>921.160000</td>\n",
       "      <td>44.294000</td>\n",
       "      <td>277.800000</td>\n",
       "      <td>1.856660</td>\n",
       "      <td>136.500000</td>\n",
       "      <td>2.863283</td>\n",
       "      <td>8.9</td>\n",
       "      <td>14730.0</td>\n",
       "      <td>92.410000</td>\n",
       "      <td>76.740000</td>\n",
       "    </tr>\n",
       "  </tbody>\n",
       "</table>\n",
       "</div>"
      ],
      "text/plain": [
       "   number  air_pressure_9am  air_temp_9am  avg_wind_direction_9am  \\\n",
       "0       0        918.060000     74.822000              271.100000   \n",
       "1       1        917.347688     71.403843              101.935179   \n",
       "2       2        923.040000     60.638000               51.000000   \n",
       "3       3        920.502751     70.138895              198.832133   \n",
       "4       4        921.160000     44.294000              277.800000   \n",
       "\n",
       "   avg_wind_speed_9am  max_wind_direction_9am  max_wind_speed_9am  \\\n",
       "0            2.080354              295.400000            2.863283   \n",
       "1            2.443009              140.471548            3.533324   \n",
       "2           17.067852               63.700000           22.100967   \n",
       "3            4.337363              211.203341            5.190045   \n",
       "4            1.856660              136.500000            2.863283   \n",
       "\n",
       "   rain_accumulation_9am  rain_duration_9am  relative_humidity_9am  \\\n",
       "0                    0.0                0.0              42.420000   \n",
       "1                    0.0                0.0              24.328697   \n",
       "2                    0.0               20.0               8.900000   \n",
       "3                    0.0                0.0              12.189102   \n",
       "4                    8.9            14730.0              92.410000   \n",
       "\n",
       "   relative_humidity_3pm  \n",
       "0              36.160000  \n",
       "1              19.426597  \n",
       "2              14.460000  \n",
       "3              12.742547  \n",
       "4              76.740000  "
      ]
     },
     "execution_count": 6,
     "metadata": {},
     "output_type": "execute_result"
    }
   ],
   "source": [
    "df.head()"
   ]
  },
  {
   "cell_type": "code",
   "execution_count": 7,
   "metadata": {},
   "outputs": [],
   "source": [
    "df = df.set_index('number')"
   ]
  },
  {
   "cell_type": "code",
   "execution_count": 8,
   "metadata": {},
   "outputs": [
    {
     "name": "stdout",
     "output_type": "stream",
     "text": [
      "<class 'pandas.core.frame.DataFrame'>\n",
      "Int64Index: 1095 entries, 0 to 1094\n",
      "Data columns (total 10 columns):\n",
      "air_pressure_9am          1092 non-null float64\n",
      "air_temp_9am              1090 non-null float64\n",
      "avg_wind_direction_9am    1091 non-null float64\n",
      "avg_wind_speed_9am        1092 non-null float64\n",
      "max_wind_direction_9am    1092 non-null float64\n",
      "max_wind_speed_9am        1091 non-null float64\n",
      "rain_accumulation_9am     1089 non-null float64\n",
      "rain_duration_9am         1092 non-null float64\n",
      "relative_humidity_9am     1095 non-null float64\n",
      "relative_humidity_3pm     1095 non-null float64\n",
      "dtypes: float64(10)\n",
      "memory usage: 94.1 KB\n"
     ]
    }
   ],
   "source": [
    "df.info()"
   ]
  },
  {
   "cell_type": "markdown",
   "metadata": {},
   "source": [
    "> #### Understanding the Columns in the DataFrame\n",
    "* Mostly Every Column is Measurement of the Features in the Morning 9 Am.\n",
    "* Relative Humidity is Measured twice.. morning again in the evening"
   ]
  },
  {
   "cell_type": "code",
   "execution_count": 9,
   "metadata": {},
   "outputs": [
    {
     "data": {
      "text/plain": [
       "air_pressure_9am          3\n",
       "air_temp_9am              5\n",
       "avg_wind_direction_9am    4\n",
       "avg_wind_speed_9am        3\n",
       "max_wind_direction_9am    3\n",
       "max_wind_speed_9am        4\n",
       "rain_accumulation_9am     6\n",
       "rain_duration_9am         3\n",
       "relative_humidity_9am     0\n",
       "relative_humidity_3pm     0\n",
       "dtype: int64"
      ]
     },
     "execution_count": 9,
     "metadata": {},
     "output_type": "execute_result"
    }
   ],
   "source": [
    "df.isna().sum()"
   ]
  },
  {
   "cell_type": "markdown",
   "metadata": {},
   "source": [
    "* There are some Missing Values in the Dataset..\n",
    "* Let's Interpolate linearly to fill them.."
   ]
  },
  {
   "cell_type": "code",
   "execution_count": 10,
   "metadata": {},
   "outputs": [],
   "source": [
    "df.iloc[:,:-2] = df.iloc[:,:-2].interpolate(method ='linear', limit_direction ='forward')"
   ]
  },
  {
   "cell_type": "code",
   "execution_count": 11,
   "metadata": {},
   "outputs": [],
   "source": [
    "# Data[Data.isnull().any(axis=1)]"
   ]
  },
  {
   "cell_type": "code",
   "execution_count": 12,
   "metadata": {},
   "outputs": [
    {
     "data": {
      "text/plain": [
       "air_pressure_9am          0\n",
       "air_temp_9am              0\n",
       "avg_wind_direction_9am    0\n",
       "avg_wind_speed_9am        0\n",
       "max_wind_direction_9am    0\n",
       "max_wind_speed_9am        0\n",
       "rain_accumulation_9am     0\n",
       "rain_duration_9am         0\n",
       "relative_humidity_9am     0\n",
       "relative_humidity_3pm     0\n",
       "dtype: int64"
      ]
     },
     "execution_count": 12,
     "metadata": {},
     "output_type": "execute_result"
    }
   ],
   "source": [
    "df.isna().sum()"
   ]
  },
  {
   "cell_type": "markdown",
   "metadata": {},
   "source": [
    "#### Data Analysations..."
   ]
  },
  {
   "cell_type": "raw",
   "metadata": {},
   "source": [
    ">> It's Good to Understand the Output Data Distrubution Once.. to make the column to Classification"
   ]
  },
  {
   "cell_type": "code",
   "execution_count": 23,
   "metadata": {},
   "outputs": [
    {
     "data": {
      "image/png": "[encoded data removed]",
      "text/plain": [
       "<Figure size 720x576 with 1 Axes>"
      ]
     },
     "metadata": {},
     "output_type": "display_data"
    }
   ],
   "source": [
    "plt.figure(figsize=(10,8))\n",
    "sns.set_style('darkgrid')\n",
    "sns.distplot(df['relative_humidity_3pm'])\n",
    "plt.xlabel('relative_humidity_3pm')\n",
    "plt.title('Distrubution of relative_humidity_3pm')\n",
    "plt.show()"
   ]
  },
  {
   "cell_type": "markdown",
   "metadata": {},
   "source": [
    "* The Data is not in Normal Distrubution\n",
    "* The Range of Data is between 10 and 90 "
   ]
  },
  {
   "cell_type": "code",
   "execution_count": 81,
   "metadata": {},
   "outputs": [
    {
     "data": {
      "image/png": "[encoded data removed]",
      "text/plain": [
       "<IPython.core.display.Image object>"
      ]
     },
     "execution_count": 81,
     "metadata": {},
     "output_type": "execute_result"
    }
   ],
   "source": [
    "Image(filename='when humidity is high.png')"
   ]
  },
  {
   "cell_type": "markdown",
   "metadata": {},
   "source": [
    "* As we see the Comfortable level of Humidity is Upto 59 we will make a classification @ 59"
   ]
  },
  {
   "cell_type": "code",
   "execution_count": 82,
   "metadata": {},
   "outputs": [],
   "source": [
    "cdf = df.copy()\n",
    "cdf['relative_humidity_3pm'] = cdf['relative_humidity_3pm'].apply(lambda x: 1 if x > 59 else 0)"
   ]
  },
  {
   "cell_type": "code",
   "execution_count": 83,
   "metadata": {},
   "outputs": [
    {
     "data": {
      "text/plain": [
       "0    907\n",
       "1    188\n",
       "Name: relative_humidity_3pm, dtype: int64"
      ]
     },
     "execution_count": 83,
     "metadata": {},
     "output_type": "execute_result"
    }
   ],
   "source": [
    "cdf['relative_humidity_3pm'].value_counts()"
   ]
  },
  {
   "cell_type": "markdown",
   "metadata": {},
   "source": [
    "* As the Distrubution High Humidity is very less values compared to Low Humidity days"
   ]
  },
  {
   "cell_type": "code",
   "execution_count": 84,
   "metadata": {},
   "outputs": [],
   "source": [
    "corr = cdf.corr()['relative_humidity_3pm']"
   ]
  },
  {
   "cell_type": "code",
   "execution_count": 85,
   "metadata": {},
   "outputs": [
    {
     "data": {
      "text/plain": [
       "air_pressure_9am         -0.273593\n",
       "air_temp_9am             -0.548888\n",
       "avg_wind_direction_9am    0.256841\n",
       "avg_wind_speed_9am        0.040453\n",
       "max_wind_direction_9am    0.279179\n",
       "max_wind_speed_9am        0.024617\n",
       "rain_accumulation_9am     0.233954\n",
       "rain_duration_9am         0.276583\n",
       "relative_humidity_9am     0.754966\n",
       "relative_humidity_3pm     1.000000\n",
       "Name: relative_humidity_3pm, dtype: float64"
      ]
     },
     "execution_count": 85,
     "metadata": {},
     "output_type": "execute_result"
    }
   ],
   "source": [
    "corr"
   ]
  },
  {
   "cell_type": "code",
   "execution_count": 86,
   "metadata": {},
   "outputs": [],
   "source": [
    "xt,XT,yt,YT = train_test_split(cdf.iloc[:,:-1],cdf.iloc[:,-1],test_size = 0.3)"
   ]
  },
  {
   "cell_type": "markdown",
   "metadata": {},
   "source": [
    "* Let's Implement Different Algorithms and Analyse them.."
   ]
  },
  {
   "cell_type": "code",
   "execution_count": 87,
   "metadata": {},
   "outputs": [],
   "source": [
    "#  Instanciation of the Models\n",
    "LOG = LogisticRegression()\n",
    "DTC = DecisionTreeClassifier(min_samples_split=5)\n",
    "RFC = RandomForestClassifier(n_estimators=500)\n",
    "ABC = AdaBoostClassifier(n_estimators=100)\n",
    "GBC = GradientBoostingClassifier(learning_rate=0.1)"
   ]
  },
  {
   "cell_type": "code",
   "execution_count": 88,
   "metadata": {},
   "outputs": [],
   "source": [
    "log=[];dtc=[];rfc=[];abc=[];gbc=[]\n",
    "for i in range(10):\n",
    "    xt,XT,yt,YT = train_test_split(cdf.iloc[:,:-1],cdf.iloc[:,-1],test_size = 0.3)\n",
    "#     Logistic Regression\n",
    "    LOG.fit(xt,yt)\n",
    "    YTP = LOG.predict(XT)\n",
    "    log.append(accuracy_score(YT,YTP))\n",
    "#     Decision Tree Classifier\n",
    "    DTC.fit(xt,yt)\n",
    "    YTP = DTC.predict(XT)\n",
    "    dtc.append(accuracy_score(YT,YTP))\n",
    "#     Random Forest Classifier\n",
    "    RFC.fit(xt,yt)\n",
    "    YTP = RFC.predict(XT)\n",
    "    rfc.append(accuracy_score(YT,YTP))\n",
    "#     Ada-Boost Classifier\n",
    "    ABC.fit(xt,yt)\n",
    "    YTP = ABC.predict(XT)\n",
    "    abc.append(accuracy_score(YT,YTP))\n",
    "#    Gradient Boost Classifier\n",
    "    GBC.fit(xt,yt)\n",
    "    YTP = GBC.predict(XT)\n",
    "    gbc.append(accuracy_score(YT,YTP))"
   ]
  },
  {
   "cell_type": "code",
   "execution_count": 89,
   "metadata": {},
   "outputs": [],
   "source": [
    "models = pd.DataFrame()"
   ]
  },
  {
   "cell_type": "code",
   "execution_count": 90,
   "metadata": {},
   "outputs": [],
   "source": [
    "models['Accuracy_score'] = log+dtc+rfc+abc+gbc\n",
    "models['Model'] = ['LOG']*10+['DTC']*10+['RFC']*10+['ABC']*10+['GBC']*10"
   ]
  },
  {
   "cell_type": "markdown",
   "metadata": {},
   "source": [
    "* Model Selection"
   ]
  },
  {
   "cell_type": "code",
   "execution_count": 91,
   "metadata": {},
   "outputs": [
    {
     "data": {
      "image/png": "[encoded data removed]",
      "text/plain": [
       "<Figure size 432x288 with 1 Axes>"
      ]
     },
     "metadata": {},
     "output_type": "display_data"
    }
   ],
   "source": [
    "sns.boxplot(models['Model'],models['Accuracy_score'])\n",
    "plt.title('Models Vs Accuracy scores')\n",
    "plt.show()"
   ]
  },
  {
   "cell_type": "markdown",
   "metadata": {},
   "source": [
    "* Logistic regression is giving us the Best accuracy and even Random Forest is best accuracy.\n",
    "* As Logistic Regression is best while compared to RFC on Classification of time\n",
    "* we will use Logistic Model for predictions"
   ]
  },
  {
   "cell_type": "code",
   "execution_count": 92,
   "metadata": {},
   "outputs": [
    {
     "name": "stdout",
     "output_type": "stream",
     "text": [
      "0.939209726443769\n",
      "Wall time: 0 ns\n"
     ]
    }
   ],
   "source": [
    "# Logistic Regression\n",
    "xt,XT,yt,YT = train_test_split(cdf.iloc[:,:-1],cdf.iloc[:,-1],test_size = 0.3)\n",
    "LOG.fit(xt,yt)\n",
    "YTP = LOG.predict(XT)\n",
    "print(accuracy_score(YT,YTP))\n",
    "%time"
   ]
  },
  {
   "cell_type": "markdown",
   "metadata": {},
   "source": [
    "> Thank You"
   ]
  }
 ],
 "metadata": {
  "kernelspec": {
   "display_name": "Python 3",
   "language": "python",
   "name": "python3"
  },
  "language_info": {
   "codemirror_mode": {
    "name": "ipython",
    "version": 3
   },
   "file_extension": ".py",
   "mimetype": "text/x-python",
   "name": "python",
   "nbconvert_exporter": "python",
   "pygments_lexer": "ipython3",
   "version": "3.7.3"
  }
 },
 "nbformat": 4,
 "nbformat_minor": 2
}
